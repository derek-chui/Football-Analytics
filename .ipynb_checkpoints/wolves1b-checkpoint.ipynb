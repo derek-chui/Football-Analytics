{
 "cells": [
  {
   "cell_type": "code",
   "execution_count": null,
   "id": "ae17ea0b-6509-4108-9480-233c1ea26434",
   "metadata": {},
   "outputs": [],
   "source": [
    "import pandas as pd\n",
    "\n",
    "# Step 1: Read the table from the webpage\n",
    "url = \"https://fbref.com/en/squads/8cec06e1/2024-2025/matchlogs/c9/passing/Wolverhampton-Wanderers-Match-Logs-Premier-League\"\n",
    "dfs = pd.read_html(url, attrs={\"id\": \"matchlogs_for\"})\n",
    "\n",
    "# Step 2: Extract the first table\n",
    "df = dfs[0]\n",
    "\n",
    "# Step 3: Save to CSV\n",
    "df.to_csv(\"wolves_passing_matchlogs.csv\", index=False)\n"
   ]
  }
 ],
 "metadata": {
  "kernelspec": {
   "display_name": "Python [conda env:base] *",
   "language": "python",
   "name": "conda-base-py"
  },
  "language_info": {
   "codemirror_mode": {
    "name": "ipython",
    "version": 3
   },
   "file_extension": ".py",
   "mimetype": "text/x-python",
   "name": "python",
   "nbconvert_exporter": "python",
   "pygments_lexer": "ipython3",
   "version": "3.13.5"
  }
 },
 "nbformat": 4,
 "nbformat_minor": 5
}
